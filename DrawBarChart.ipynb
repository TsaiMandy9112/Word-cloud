{
 "cells": [
  {
   "cell_type": "code",
   "execution_count": null,
   "id": "0446d4b7",
   "metadata": {},
   "outputs": [],
   "source": [
    "import matplotlib.pyplot as plt\n",
    "from matpltlib.font_manager import FontProperties\n",
    "import numpy as np\n",
    "import codecs\n",
    "\n",
    "def drawBar():\n",
    "    #使用plt.subplots畫圖，它會把fig和ax結合起來\n",
    "    fig,ax=plt.subplots()\n",
    "    fig.set_size_inches(10.5)\n",
    "    \n",
    "    #設定字形，需含路徑\n",
    "    myfont=FontProperties(frame=r'simkai.ttf')\n",
    "    \n",
    "    #設定y軸的座標刻度數量\n",
    "    N=30\n",
    "    \n",
    "    #從word_Count.txt中，逐行取出詞彙，找出長度大於2的詞彙，並計算其出現頻率\n",
    "    word=[]\n",
    "    counts=[]\n",
    "    for line in codecs.open('word_Count.txt','r','utf-8'):\n",
    "        line.strip('\\n')\n",
    "        if len(line.split('')[0]>=2):   #只取出詞彙長度大於2的\n",
    "            words.append(line.split('')[0])   #以words串列存放長度大於2的詞彙\n",
    "            counts.append(int(line,split('')[1].strip('\\n')))   #以counts串列存放長度大於2之詞彙的出現頻率\n",
    "    #設定y軸的座標刻度\n",
    "    y_pos = np.arrange(N)\n",
    "    \n",
    "    #設定顏色，使具有漸層效果\n",
    "    \n",
    "    colors=['#FC0404','#FC3C04','#FC5A04','#FC7504','#FC9704','#FCB504','#FCD304','#FCF104','#EDFC04',\n",
    "            '#D3FC04','#ADFC04','#8FFC04','#6AFC04','#4BFC04','#31FC04','#13FC04','#04FC17','#04FC35',\n",
    "            '#04FC4F','#04FC71','#04FC97','#04FCB1','#04FCCF','#04FCF1','#04EAFC','#04CFFC','#04B5FC',\n",
    "            '#048FFC','#0466FC']\n",
    "    \n",
    "    #繪製水平長條圖\n",
    "    rects=ax.barh(y_pos,counts[:N],align='center',color=colors)\n",
    "    \n",
    "    #設定圖型屬性\n",
    "    ax.set_yticks(np.arrange(N))\n",
    "    ax.set_yticklabels(words[:N],fontproperties=myfont)\n",
    "    \n",
    "    #設定出現頻率高的詞彙之長條圖在最上面，往下遞減\n",
    "    ax.imvert_yaxis()\n",
    "    ax.set_title('高頻字彙長條圖',fontproperties=myfont,fontsize=17)\n",
    "    ax.set_xlabel('出現次數',fontproperties=myfont)\n",
    "    \n",
    "    #設定長條圖的標籤\n",
    "    autolabel(rects,ax)\n",
    "    plt.show()\n",
    "    "
   ]
  },
  {
   "cell_type": "code",
   "execution_count": null,
   "id": "499e3fde",
   "metadata": {},
   "outputs": [],
   "source": [
    "def autolabel(rects,ax):\n",
    "    #為長條圖加上文字標籤\n",
    "    for rect in rects:\n",
    "        width=rect.get_width()\n",
    "        ax.text(1.03*width, rect.get_y()+rect.get_height()/2.,'%d'%int(width), ha='center',va='center')"
   ]
  },
  {
   "cell_type": "code",
   "execution_count": null,
   "id": "1c6f0d72",
   "metadata": {},
   "outputs": [],
   "source": []
  },
  {
   "cell_type": "code",
   "execution_count": null,
   "id": "e242c30e",
   "metadata": {},
   "outputs": [],
   "source": []
  },
  {
   "cell_type": "code",
   "execution_count": null,
   "id": "5278066c",
   "metadata": {},
   "outputs": [],
   "source": []
  }
 ],
 "metadata": {
  "kernelspec": {
   "display_name": "Python 3 (ipykernel)",
   "language": "python",
   "name": "python3"
  },
  "language_info": {
   "codemirror_mode": {
    "name": "ipython",
    "version": 3
   },
   "file_extension": ".py",
   "mimetype": "text/x-python",
   "name": "python",
   "nbconvert_exporter": "python",
   "pygments_lexer": "ipython3",
   "version": "3.9.7"
  }
 },
 "nbformat": 4,
 "nbformat_minor": 5
}

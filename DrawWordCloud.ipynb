{
 "cells": [
  {
   "cell_type": "code",
   "execution_count": null,
   "id": "5a515e61",
   "metadata": {},
   "outputs": [],
   "source": [
    "import jieba\n",
    "import codecs\n",
    "from scipy.misc import imread\n",
    "import os \n",
    "from os import path\n",
    "import matpltlib.pyplot as plt\n",
    "from PIL import Image, ImageDraw,ImageFont\n",
    "from wordcloud import WordCloud, ImageColorGenerator\n",
    "import DrawBarChart"
   ]
  },
  {
   "cell_type": "code",
   "execution_count": 1,
   "id": "95eb8447",
   "metadata": {},
   "outputs": [
    {
     "ename": "IndentationError",
     "evalue": "expected an indented block (1580863088.py, line 1)",
     "output_type": "error",
     "traceback": [
      "\u001b[0;36m  File \u001b[0;32m\"/var/folders/2p/bfbv31p50qg35jbmb1fczxq80000gn/T/ipykernel_2458/1580863088.py\"\u001b[0;36m, line \u001b[0;32m1\u001b[0m\n\u001b[0;31m    if _name_ =='_main_':\u001b[0m\n\u001b[0m                         ^\u001b[0m\n\u001b[0;31mIndentationError\u001b[0m\u001b[0;31m:\u001b[0m expected an indented block\n"
     ]
    }
   ],
   "source": [
    "if _name_ =='_main_':\n",
    "    doc=''\n",
    "    seged_list=segment(doc)   #對DOC進行斷字\n",
    "    words_clear=removeStopWords(seged_list)  #萃取出有意義的詞彙\n",
    "    drawWordCloud(words_clear)   #繪製文字雲\n",
    "    wordCount(words_clear)   #對各詞彙進行出現頻率計算\n",
    "    DrawBarChart.drawBar()   #繪製長條圖"
   ]
  },
  {
   "cell_type": "code",
   "execution_count": null,
   "id": "f81fea8d",
   "metadata": {},
   "outputs": [],
   "source": [
    "def segment(doc):\n",
    "    #以精準模式，將doc內的文字內容進行斷字，且所有取出的詞彙將逐一的，以一個字元的空白間隔，連接成字串\n",
    "    seg_list=''.join(jieba.cut(doc,cut_all=False))\n",
    "    \n",
    "    #將斷詞結果存入result.txt中\n",
    "    document_seged=codecs.open('result.txt','w+','utf-8')\n",
    "    document_seged.write(seg_list)\n",
    "    document_seged.close()\n",
    "    \n",
    "    return seg_list"
   ]
  },
  {
   "cell_type": "code",
   "execution_count": null,
   "id": "10832ddb",
   "metadata": {},
   "outputs": [],
   "source": [
    "def removeStopWords(seged_list):\n",
    "    words_stop_removed=[]\n",
    "    \n",
    "    #開啟預先準備好的stopword（停詞）檔案，stopword代表未來不會被列入統計的詞彙，也就是要淘汰的詞彙。\n",
    "    stop_words=open(r'my_stopwords.txt')\n",
    "    stop_words_text=stop_words.read()\n",
    "    stop_words.close()\n",
    "    \n",
    "    #以'\\n'為間隔，逐一抽離各停詞，並成為stop_words_list串列的元素\n",
    "    stop_words_list=stop_words_text.split('\\n')\n",
    "    \n",
    "    #再以‘’符號為間隔，逐一抽離各詞彙，並成為seged_text_list串列的元素\n",
    "    seged_text_list=seged_list.split('')\n",
    "    \n",
    "    #萃取出未來需要進行統計的詞彙\n",
    "    for word in seged_text_list:\n",
    "        if word not in stop_words_list:\n",
    "            words_stop_removed.append(word)\n",
    "            \n",
    "    #將萃取出的詞彙，存入result_stop.txt檔中\n",
    "    words_clear=codecs.open('result_stop.txt','w','utf-8')\n",
    "    words_clear.write(''.join(words_stop_removed))\n",
    "    return ''.join(words_stop_removed)"
   ]
  },
  {
   "cell_type": "code",
   "execution_count": null,
   "id": "98911be8",
   "metadata": {},
   "outputs": [],
   "source": [
    "def drawWordCloud(seged_list):\n",
    "    #以imread方法匯入圖形，用於設置文字雲的形狀，亦即設定遮罩的意思\n",
    "    #設定遮罩的圖形為台灣地圖（taiwan_map.png）\n",
    "    fig_mask=imread(r'taiwan_map.png')\n",
    "    \n",
    "    #產生文字雲物件，並設定其各種屬性\n",
    "    wc=WordCloud(\n",
    "       font_path=r'BMAO00HU.ttf',    #設定字型，需含路徑\n",
    "       background_color='white',     #設定背景顏色\n",
    "       mask='fig_mask',              #設定遮罩\n",
    "       max_words=2000,               #設定文字雲能顯示的最大詞數\n",
    "       max_font_size=60              #設定最大字型\n",
    "    )\n",
    "    \n",
    "    #使用seged_list的詞彙製作文字雲\n",
    "    wc.generate(seged_list)\n",
    "    #儲存文字雲圖\n",
    "    wc.to_file('wc_fig.jpg')\n",
    "    \n",
    "    #畫第一張文字雲圖，字體顏色自動產生\n",
    "    plt.imshow(wc,interpolation='bilinear')\n",
    "    plt.axis('off') #不顯示座標軸\n",
    "    \n",
    "    #畫第二張圖，沒有使用plt.figure()的話，則第二張圖會把第一張圖蓋掉\n",
    "    plt.figure()\n",
    "    \n",
    "    #設定字體顏色，將依照遮罩圖內的顏色分佈來做配色\n",
    "    image_colors=ImageColorGeneraor(fig_mask)\n",
    "    \n",
    "    #第二張文字雲圖中，改變字體顏色，color_func代表產生新顏色，新顏色為依照遮罩圖內原始的顏色分佈來做配色\n",
    "    plt.imshow(wc.recolor(color_func=image_colors),interpolation='bilinear')\n",
    "    plt.axis('off')\n",
    "    \n",
    "    #把文字雲圖顯示出來\n",
    "    plt.show()\n",
    "    "
   ]
  },
  {
   "cell_type": "code",
   "execution_count": null,
   "id": "51b63e18",
   "metadata": {},
   "outputs": [],
   "source": [
    "def wordCount(seged_list):\n",
    "    word_lst=[]\n",
    "    word_dict=[]\n",
    "    with codecs.open('word_Count.txt','w','utf-8')as wcf:\n",
    "        \n",
    "        #以一個字元的空白間隔，逐一抽離seged_list中的各詞彙，並成為word_lst串列中的元素\n",
    "        word_lst.append(seged_list.split(''))\n",
    "        \n",
    "        #遍歷所有的詞彙\n",
    "        for item in word_lst:\n",
    "            #計算各詞彙出現的次數\n",
    "            for item2 in item:\n",
    "                if len(item2)>=2:\n",
    "                    if item2 not in word_dict:\n",
    "                        word_dic[item2]=1\n",
    "                    else:\n",
    "                        word_dic[item2]+=1\n",
    "                        \n",
    "        #字典中，以值為key，進行各詞彙元素的遞減排序，排序完成後，存入word_dict_sorted字典\n",
    "        word_dict_sorted=dic(sorted(word_dict.items(),key=lambda item:item[1],reverse=True))\n",
    "        \n",
    "        #遍歷word_dict_sorted字典中的所有的詞彙元素，並轉為字串鍵值對而存於word_Count.txt中\n",
    "        for key in word_dict_sorted:\n",
    "            wcf.write(key+''+str(word_dict_sorted[key])+'\\n')\n",
    "            \n",
    "    wcf.close()"
   ]
  }
 ],
 "metadata": {
  "kernelspec": {
   "display_name": "Python 3 (ipykernel)",
   "language": "python",
   "name": "python3"
  },
  "language_info": {
   "codemirror_mode": {
    "name": "ipython",
    "version": 3
   },
   "file_extension": ".py",
   "mimetype": "text/x-python",
   "name": "python",
   "nbconvert_exporter": "python",
   "pygments_lexer": "ipython3",
   "version": "3.9.7"
  }
 },
 "nbformat": 4,
 "nbformat_minor": 5
}
